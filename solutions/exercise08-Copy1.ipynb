{
 "cells": [
  {
   "cell_type": "markdown",
   "metadata": {},
   "source": [
    "### Exercise 8\n",
    "In this exercise, you will write functions that cache their results, and write a decorator. First, here are some examples using lru_cache to speed up repeated computation."
   ]
  },
  {
   "cell_type": "code",
   "execution_count": 1,
   "metadata": {},
   "outputs": [
    {
     "name": "stdout",
     "output_type": "stream",
     "text": [
      "Ran computation\n",
      "Ran computation\n",
      "Ran computation\n",
      "Ran computation\n",
      "Ran computation\n",
      "0:00:10.014188\n"
     ]
    }
   ],
   "source": [
    "from time import sleep \n",
    "from datetime import datetime\n",
    "def slow_computation(x):\n",
    "    sleep(2)\n",
    "    print(\"Ran computation\")\n",
    "    \n",
    "    \n",
    "start_time = datetime.now()\n",
    "slow_computation(1)\n",
    "slow_computation(1)\n",
    "slow_computation(1)\n",
    "slow_computation(1)\n",
    "slow_computation(1)\n",
    "print(datetime.now() - start_time)"
   ]
  },
  {
   "cell_type": "code",
   "execution_count": 3,
   "metadata": {},
   "outputs": [
    {
     "name": "stdout",
     "output_type": "stream",
     "text": [
      "Ran computation\n",
      "0:00:02.001962\n"
     ]
    }
   ],
   "source": [
    "from functools import lru_cache\n",
    "\n",
    "@lru_cache()\n",
    "def cached_slow_computation(x):\n",
    "    sleep(2)\n",
    "    print(\"Ran computation\")\n",
    "    \n",
    "start_time = datetime.now()\n",
    "cached_slow_computation(1)\n",
    "cached_slow_computation(1)\n",
    "cached_slow_computation(1)\n",
    "cached_slow_computation(1)\n",
    "cached_slow_computation(1)\n",
    "print(datetime.now() - start_time)"
   ]
  },
  {
   "cell_type": "code",
   "execution_count": 10,
   "metadata": {},
   "outputs": [
    {
     "name": "stdout",
     "output_type": "stream",
     "text": [
      "fib took 0:00:00.000106\n"
     ]
    }
   ],
   "source": [
    "# Now, here is an implementation of fibonacci.\n",
    "\n",
    "@lru_cache\n",
    "def fib(n: int) -> int:\n",
    "    if n == 0:\n",
    "        return 0\n",
    "    elif n == 1:\n",
    "        return 1\n",
    "    else:\n",
    "        return fib(n-1) + fib(n-2)\n",
    "\n",
    "start_time = datetime.now()\n",
    "fib(34)\n",
    "# Try it with 40 if you're willing to wait! Takes ~35 seconds on my machine\n",
    "print(f\"fib took {datetime.now() - start_time}\")\n",
    "\n",
    "\n",
    "# That is too slow. Add a LRU cache to that function, and see how long it takes!\n",
    "# Then try `print(fib.cache_info())` to see how many times it hit/missed the cache\n"
   ]
  },
  {
   "cell_type": "code",
   "execution_count": 11,
   "metadata": {},
   "outputs": [
    {
     "name": "stdout",
     "output_type": "stream",
     "text": [
      "f called with [4] {'y': 3} returned 10\n",
      "f called with [4, 3] {} returned 10\n"
     ]
    }
   ],
   "source": [
    "# Decorators\n",
    "# printing exmample\n",
    "from functools import wraps\n",
    "\n",
    "def logging(func):\n",
    "    @wraps(func)\n",
    "    def modified(*args, **kwargs):\n",
    "        out = func(*args, **kwargs)\n",
    "        print(f\"{func.__name__} called with {list(args)} {kwargs} returned {out}\")\n",
    "\n",
    "    return modified\n",
    "\n",
    "@logging\n",
    "def f(x, y=0):\n",
    "    return x + y + 3\n",
    "\n",
    "f(4, y=3)\n",
    "f(4, 3)"
   ]
  },
  {
   "cell_type": "code",
   "execution_count": 12,
   "metadata": {},
   "outputs": [],
   "source": [
    "# Implement a decorator that takes a function \n",
    "# and produces a function that prints \"{func.__name__} invoked\"\n",
    "# whenever it is called\n",
    "\n",
    "def print_invoked(func):\n",
    "    @wraps(func)\n",
    "    def modified(*args, **kwargs):\n",
    "        print(f\"{func.__name__} invoked\")\n",
    "        out = func(*args, **kwargs)\n",
    "        return out\n",
    "    \n",
    "    return modified\n",
    "    \n",
    "# Challenge:\n",
    "# Does your decorator still print if the function throws an execption? Test it.\n",
    "# Then, modify it to do the opposite (print on exeception or don't print on exception)"
   ]
  },
  {
   "cell_type": "code",
   "execution_count": 13,
   "metadata": {},
   "outputs": [],
   "source": [
    "# Implement a decorator that takes a function f\n",
    "# and produces a function that returns whatever\n",
    "# f returned plus one\n",
    "\n",
    "def increment(func):\n",
    "    @wraps(func)\n",
    "    def modified(*args, **kwargs):\n",
    "        print(f\"{func.__name__} invoked\")\n",
    "        out = func(*args, **kwargs)\n",
    "        return out + 1\n",
    "    \n",
    "    return modified"
   ]
  },
  {
   "cell_type": "code",
   "execution_count": null,
   "metadata": {},
   "outputs": [],
   "source": []
  }
 ],
 "metadata": {
  "kernelspec": {
   "display_name": "Python 3",
   "language": "python",
   "name": "python3"
  },
  "language_info": {
   "codemirror_mode": {
    "name": "ipython",
    "version": 3
   },
   "file_extension": ".py",
   "mimetype": "text/x-python",
   "name": "python",
   "nbconvert_exporter": "python",
   "pygments_lexer": "ipython3",
   "version": "3.8.5"
  }
 },
 "nbformat": 4,
 "nbformat_minor": 4
}
