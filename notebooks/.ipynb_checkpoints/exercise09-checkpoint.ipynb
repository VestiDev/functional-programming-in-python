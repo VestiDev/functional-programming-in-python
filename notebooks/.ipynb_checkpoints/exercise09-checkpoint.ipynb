{
 "cells": [
  {
   "cell_type": "markdown",
   "metadata": {},
   "source": [
    "### Exercise 9\n",
    "In this exercise, you will practice using map and filter and group_by as replacements for list comprehensions."
   ]
  },
  {
   "cell_type": "code",
   "execution_count": 1,
   "metadata": {},
   "outputs": [],
   "source": [
    "arr = [1,2,3,4,5,6,7,8,9,10]"
   ]
  },
  {
   "cell_type": "code",
   "execution_count": 4,
   "metadata": {},
   "outputs": [
    {
     "data": {
      "text/plain": [
       "[2, 3, 4, 5, 6, 7, 8, 9, 10, 11]"
      ]
     },
     "execution_count": 4,
     "metadata": {},
     "output_type": "execute_result"
    }
   ],
   "source": [
    "# \"Mapping\" a function applies it to each element of a list\n",
    "list(map(lambda x: x + 1, arr))"
   ]
  },
  {
   "cell_type": "code",
   "execution_count": 8,
   "metadata": {},
   "outputs": [
    {
     "name": "stdout",
     "output_type": "stream",
     "text": [
      "[1, 2, 3, 4]\n",
      "[1, 2, 3, 4]\n"
     ]
    }
   ],
   "source": [
    "# \"Filtering\" a list keeps only the elements that the function returns \"True\" for\n",
    "print(list(filter(lambda x: x < 5, arr)))\n",
    "\n",
    "def is_small(x):\n",
    "    return x < 5\n",
    "print(list(filter(is_small, arr)))\n",
    "\n"
   ]
  },
  {
   "cell_type": "code",
   "execution_count": 7,
   "metadata": {},
   "outputs": [],
   "source": [
    "# Double each element in the list using map"
   ]
  },
  {
   "cell_type": "code",
   "execution_count": 15,
   "metadata": {},
   "outputs": [],
   "source": [
    "# Keep only elements which are odd using filter. \n",
    "# You can use this function\n",
    "def is_odd(n):\n",
    "    return n % 2 == 1"
   ]
  },
  {
   "cell_type": "code",
   "execution_count": 16,
   "metadata": {},
   "outputs": [],
   "source": [
    "# First keep only odd elements, then double the rest.\n",
    "# Challenge: Can you do this without using any intermediate variables?"
   ]
  },
  {
   "cell_type": "code",
   "execution_count": 27,
   "metadata": {},
   "outputs": [
    {
     "name": "stdout",
     "output_type": "stream",
     "text": [
      "[(True, <itertools._grouper object at 0x7fe9f2b4d670>), (False, <itertools._grouper object at 0x7fe9f2b22460>)]\n",
      "[(True, <itertools._grouper object at 0x7fe9f2b22760>), (False, <itertools._grouper object at 0x7fe9f2b225e0>), (True, <itertools._grouper object at 0x7fe9f2b22460>), (False, <itertools._grouper object at 0x7fe9f2b22490>), (True, <itertools._grouper object at 0x7fe9f2b22fd0>), (False, <itertools._grouper object at 0x7fe9f2b221f0>), (True, <itertools._grouper object at 0x7fe9f2b22af0>), (False, <itertools._grouper object at 0x7fe9f2b223a0>), (True, <itertools._grouper object at 0x7fe9f2b22f40>), (False, <itertools._grouper object at 0x7fe9f2b22190>)]\n",
      "\n",
      "\n",
      "Value True, group [1, 2, 3, 4]\n",
      "Value False, group [5, 6, 7, 8, 9, 10]\n"
     ]
    }
   ],
   "source": [
    "from itertools import groupby\n",
    "\n",
    "print(list(groupby(arr, is_small)))\n",
    "print(list(groupby(arr, is_odd)))\n",
    "\n",
    "print()\n",
    "print()\n",
    "\n",
    "for value, group in groupby(arr, is_small):\n",
    "    print(f\"Value {value}, group {list(group)}\")"
   ]
  },
  {
   "cell_type": "code",
   "execution_count": null,
   "metadata": {},
   "outputs": [],
   "source": [
    "# Group arr using the below function\n",
    "def hard_div_four(x):\n",
    "    return x // 4\n",
    "\n",
    "# Write your own function, and use it to group the array."
   ]
  }
 ],
 "metadata": {
  "kernelspec": {
   "display_name": "Python 3",
   "language": "python",
   "name": "python3"
  },
  "language_info": {
   "codemirror_mode": {
    "name": "ipython",
    "version": 3
   },
   "file_extension": ".py",
   "mimetype": "text/x-python",
   "name": "python",
   "nbconvert_exporter": "python",
   "pygments_lexer": "ipython3",
   "version": "3.8.5"
  }
 },
 "nbformat": 4,
 "nbformat_minor": 4
}
