{
 "cells": [
  {
   "cell_type": "markdown",
   "metadata": {},
   "source": [
    "### Exercise 8\n",
    "In this exercise, you will write functions that cache their results, and write a decorator. First, here are some examples using lru_cache to speed up repeated computation."
   ]
  },
  {
   "cell_type": "code",
   "execution_count": 1,
   "metadata": {},
   "outputs": [
    {
     "name": "stdout",
     "output_type": "stream",
     "text": [
      "Ran computation\n",
      "Ran computation\n",
      "Ran computation\n",
      "Ran computation\n",
      "Ran computation\n",
      "0:00:10.011692\n"
     ]
    }
   ],
   "source": [
    "from time import sleep \n",
    "from datetime import datetime\n",
    "def slow_computation(x):\n",
    "    sleep(2)\n",
    "    print(\"Ran computation\")\n",
    "    \n",
    "    \n",
    "start_time = datetime.now()\n",
    "slow_computation(1)\n",
    "slow_computation(1)\n",
    "slow_computation(1)\n",
    "slow_computation(1)\n",
    "slow_computation(1)\n",
    "print(datetime.now() - start_time)"
   ]
  },
  {
   "cell_type": "code",
   "execution_count": 2,
   "metadata": {},
   "outputs": [
    {
     "name": "stdout",
     "output_type": "stream",
     "text": [
      "Ran computation\n",
      "0:00:02.005148\n"
     ]
    }
   ],
   "source": [
    "from functools import lru_cache\n",
    "\n",
    "@lru_cache\n",
    "def cached_slow_computation(x):\n",
    "    sleep(2)\n",
    "    print(\"Ran computation\")\n",
    "    \n",
    "start_time = datetime.now()\n",
    "cached_slow_computation(1)\n",
    "cached_slow_computation(1)\n",
    "cached_slow_computation(1)\n",
    "cached_slow_computation(1)\n",
    "cached_slow_computation(1)\n",
    "print(datetime.now() - start_time)"
   ]
  },
  {
   "cell_type": "code",
   "execution_count": 9,
   "metadata": {},
   "outputs": [
    {
     "name": "stdout",
     "output_type": "stream",
     "text": [
      "fib took 0:00:02.018012\n"
     ]
    }
   ],
   "source": [
    "### Now, here is an implementation of fibonacci.\n",
    "\n",
    "def fib(n):\n",
    "    if n == 0:\n",
    "        return 0\n",
    "    elif n == 1:\n",
    "        return 1\n",
    "    else:\n",
    "        return fib(n-1) + fib(n-2)\n",
    "\n",
    "start_time = datetime.now()\n",
    "fib(34)\n",
    "# Try it with 40 if you're willing to wait! Takes ~35 seconds on my machine\n",
    "print(f\"fib took {datetime.now() - start_time}\")"
   ]
  },
  {
   "cell_type": "code",
   "execution_count": null,
   "metadata": {},
   "outputs": [],
   "source": [
    "### Anyway, that"
   ]
  }
 ],
 "metadata": {
  "kernelspec": {
   "display_name": "Python 3",
   "language": "python",
   "name": "python3"
  },
  "language_info": {
   "codemirror_mode": {
    "name": "ipython",
    "version": 3
   },
   "file_extension": ".py",
   "mimetype": "text/x-python",
   "name": "python",
   "nbconvert_exporter": "python",
   "pygments_lexer": "ipython3",
   "version": "3.8.5"
  }
 },
 "nbformat": 4,
 "nbformat_minor": 4
}
