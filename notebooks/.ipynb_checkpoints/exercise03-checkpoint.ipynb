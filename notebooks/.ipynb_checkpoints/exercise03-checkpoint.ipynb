{
 "cells": [
  {
   "cell_type": "markdown",
   "metadata": {},
   "source": [
    "### Exercise 3\n",
    "Exercise 3 explores the strategy pattern. Here is an example of a class that takes a strategy object:"
   ]
  },
  {
   "cell_type": "code",
   "execution_count": 8,
   "metadata": {},
   "outputs": [],
   "source": [
    "class CustomerBill:\n",
    "    def __init__(self, strategy):\n",
    "        self.strategy = strategy\n",
    "        self.items = []\n",
    "    \n",
    "    def add_item(self, item):\n",
    "        self.items.append(self.strategy.update_price(item))\n",
    "\n",
    "from typing import NamedTuple\n",
    "class BarItem(NamedTuple):\n",
    "    name: str\n",
    "    price: int\n",
    "        \n",
    "beer = BarItem(\"beer\", 650)\n",
    "wine = BarItem(\"wine\", 1200)\n",
    "        \n",
    "class NormalStrategy:\n",
    "    def update_price(self, item):\n",
    "        return item\n",
    "    \n",
    "            \n",
    "class HappyHourStrategy:\n",
    "    def update_price(self, item):\n",
    "        return item._replace(price=item.price / 2)"
   ]
  },
  {
   "cell_type": "code",
   "execution_count": 10,
   "metadata": {},
   "outputs": [
    {
     "name": "stdout",
     "output_type": "stream",
     "text": [
      "<__main__.CustomerBill object at 0x7fb171c1daf0>\n",
      "<__main__.CustomerBill object at 0x7fb171b81790>\n"
     ]
    }
   ],
   "source": [
    "bill = CustomerBill(NormalStrategy())\n",
    "bill.add_item(wine)\n",
    "print(bill)\n",
    "\n",
    "bill2 = CustomerBill(HappyHourStrategy())\n",
    "bill2.add_item(beer)\n",
    "bill2.add_item(beer)\n",
    "\n",
    "print(bill2)"
   ]
  },
  {
   "cell_type": "code",
   "execution_count": 11,
   "metadata": {},
   "outputs": [],
   "source": [
    "# Reimplement CustomerBill to be immutable: \n",
    "# extend from NamedTuple and replace the array with a tuple"
   ]
  },
  {
   "cell_type": "code",
   "execution_count": 12,
   "metadata": {},
   "outputs": [],
   "source": [
    "# Then, re-create the bills above with your new data.\n",
    "# Create one bill with a normal strategy and wine, and\n",
    "# one bill with a happyhour strategy and two beers."
   ]
  },
  {
   "cell_type": "code",
   "execution_count": null,
   "metadata": {},
   "outputs": [],
   "source": [
    "# Then, replace the strategy objects with plain Python functions.\n",
    "# This will simplify the code, as new strategies won't have to be\n",
    "# full-fledged classes."
   ]
  },
  {
   "cell_type": "code",
   "execution_count": null,
   "metadata": {},
   "outputs": [],
   "source": [
    "# Finally, re-re-create the bills above using your new classes."
   ]
  }
 ],
 "metadata": {
  "kernelspec": {
   "display_name": "Python 3",
   "language": "python",
   "name": "python3"
  },
  "language_info": {
   "codemirror_mode": {
    "name": "ipython",
    "version": 3
   },
   "file_extension": ".py",
   "mimetype": "text/x-python",
   "name": "python",
   "nbconvert_exporter": "python",
   "pygments_lexer": "ipython3",
   "version": "3.8.5"
  }
 },
 "nbformat": 4,
 "nbformat_minor": 4
}
