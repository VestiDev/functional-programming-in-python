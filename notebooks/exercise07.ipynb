{
 "cells": [
  {
   "cell_type": "markdown",
   "metadata": {},
   "source": [
    "### Exercise 7\n",
    "In this exercise, you will define classes with more complex types."
   ]
  },
  {
   "cell_type": "code",
   "execution_count": 1,
   "metadata": {},
   "outputs": [],
   "source": [
    "%load_ext mypy_ipython \n",
    "%mypy"
   ]
  },
  {
   "cell_type": "code",
   "execution_count": 3,
   "metadata": {},
   "outputs": [
    {
     "ename": "SyntaxError",
     "evalue": "invalid syntax (<ipython-input-3-c99fb22db285>, line 2)",
     "output_type": "error",
     "traceback": [
      "\u001b[0;36m  File \u001b[0;32m\"<ipython-input-3-c99fb22db285>\"\u001b[0;36m, line \u001b[0;32m2\u001b[0m\n\u001b[0;31m    def __init__(self, value, left=None, right=None)\u001b[0m\n\u001b[0m                                                    ^\u001b[0m\n\u001b[0;31mSyntaxError\u001b[0m\u001b[0;31m:\u001b[0m invalid syntax\n"
     ]
    }
   ],
   "source": [
    "# Add types to the following code.\n",
    "# Hint: value can be any type as long as it is consistent throughout the tree!\n",
    "# Hint: self.left and self.right can be TreeNode or None\n",
    "\n",
    "\n",
    "class TreeNode:\n",
    "    def __init__(self, value, left=None, right=None)\n",
    "        self.value = value\n",
    "        self.left = left\n",
    "        self.right = right\n",
    "    \n",
    "    def values():\n",
    "        return self.value + get_values(self.left) + get_values(self.right)\n",
    "\n",
    "    \n",
    "def get_values(maybe_tree_node):\n",
    "    if maybe_tree_node:\n",
    "        return maybe_tree_node.values()\n",
    "    else:\n",
    "        return []"
   ]
  },
  {
   "cell_type": "code",
   "execution_count": null,
   "metadata": {},
   "outputs": [],
   "source": [
    "# Add types to the following code.\n",
    "# Assume that the dictionary only has string keys and values.\n",
    "def names(arr):\n",
    "    return [item['name'].upper() for item in arr]"
   ]
  },
  {
   "cell_type": "code",
   "execution_count": 4,
   "metadata": {},
   "outputs": [],
   "source": [
    "# Write a class `IceCreamSundae` which has a list\n",
    "# of ice cream flavor names, and a cost. It also\n",
    "# should have a method `add_scoop`, which takes \n",
    "# a flavor name (string) and a price (int) and\n",
    "# returns an IceCreamSundae with those things\n",
    "# added."
   ]
  },
  {
   "cell_type": "code",
   "execution_count": null,
   "metadata": {},
   "outputs": [],
   "source": [
    "# Challenge:\n",
    "# Write a class that takes a List[A] and a List[B] as input. \n",
    "# It should have the following methods:\n",
    "#   - zip, returning a List[(A, B)] containing pairs from the two lists\n",
    "#   - map"
   ]
  }
 ],
 "metadata": {
  "kernelspec": {
   "display_name": "Python 3",
   "language": "python",
   "name": "python3"
  },
  "language_info": {
   "codemirror_mode": {
    "name": "ipython",
    "version": 3
   },
   "file_extension": ".py",
   "mimetype": "text/x-python",
   "name": "python",
   "nbconvert_exporter": "python",
   "pygments_lexer": "ipython3",
   "version": "3.8.5"
  }
 },
 "nbformat": 4,
 "nbformat_minor": 4
}
